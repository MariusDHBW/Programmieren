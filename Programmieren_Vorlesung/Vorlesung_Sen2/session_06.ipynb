{
 "cells": [
  {
   "cell_type": "code",
   "execution_count": 1,
   "id": "989d1efe-6bbf-423a-a3f7-529a560b54b5",
   "metadata": {},
   "outputs": [],
   "source": [
    "numbers = [7, 8, 9, 1, 2, 3, 6, 5, 4, 12, 11, 10]"
   ]
  },
  {
   "cell_type": "markdown",
   "id": "40849a1f-b3ec-4bca-900e-b87bc5c48942",
   "metadata": {},
   "source": [
    "## Was macht Python bei einem `for`-Loop im Hintergrund"
   ]
  },
  {
   "cell_type": "code",
   "execution_count": 2,
   "id": "e1b19944-a3c2-47cd-8080-4ca418c8e1a6",
   "metadata": {},
   "outputs": [
    {
     "name": "stdout",
     "output_type": "stream",
     "text": [
      "49\n",
      "64\n",
      "81\n",
      "1\n",
      "4\n",
      "9\n",
      "36\n",
      "25\n",
      "16\n",
      "144\n",
      "121\n",
      "100\n"
     ]
    }
   ],
   "source": [
    "for number in numbers:\n",
    "    square = number ** 2\n",
    "    print(square)"
   ]
  },
  {
   "cell_type": "markdown",
   "id": "6246ef70-59eb-4c8d-985f-f4b75e12f897",
   "metadata": {},
   "source": [
    "**Iterable** := Ein Objekt `obj`, das man an `iter(obj)` geben kann\n",
    "\n",
    "`iter(obj)` => erstellt einen Iterator aus einem Iterable"
   ]
  },
  {
   "cell_type": "code",
   "execution_count": 5,
   "id": "09528e1d-54cb-43ec-8fde-6ab12872f11d",
   "metadata": {},
   "outputs": [
    {
     "data": {
      "text/plain": [
       "<list_iterator at 0x7f74903b89d0>"
      ]
     },
     "execution_count": 5,
     "metadata": {},
     "output_type": "execute_result"
    }
   ],
   "source": [
    "it = iter(numbers)\n",
    "\n",
    "it"
   ]
  },
  {
   "cell_type": "code",
   "execution_count": 18,
   "id": "70da3f96-5f0c-4d95-b8ae-2291f3e0b1b5",
   "metadata": {},
   "outputs": [
    {
     "ename": "StopIteration",
     "evalue": "",
     "output_type": "error",
     "traceback": [
      "\u001b[0;31m---------------------------------------------------------------------------\u001b[0m",
      "\u001b[0;31mStopIteration\u001b[0m                             Traceback (most recent call last)",
      "Cell \u001b[0;32mIn[18], line 1\u001b[0m\n\u001b[0;32m----> 1\u001b[0m \u001b[38;5;28;43mnext\u001b[39;49m\u001b[43m(\u001b[49m\u001b[43mit\u001b[49m\u001b[43m)\u001b[49m\n",
      "\u001b[0;31mStopIteration\u001b[0m: "
     ]
    }
   ],
   "source": [
    "next(it)"
   ]
  },
  {
   "cell_type": "code",
   "execution_count": 19,
   "id": "01bdfdf5-1c61-45f1-af96-d91060993fdd",
   "metadata": {},
   "outputs": [
    {
     "name": "stdout",
     "output_type": "stream",
     "text": [
      "49\n",
      "64\n",
      "81\n",
      "1\n",
      "4\n",
      "9\n",
      "36\n",
      "25\n",
      "16\n",
      "144\n",
      "121\n",
      "100\n"
     ]
    }
   ],
   "source": [
    "iterator = iter(numbers)\n",
    "\n",
    "while True:\n",
    "    try:\n",
    "        number = next(iterator)\n",
    "    except StopIteration:\n",
    "        break\n",
    "    else:\n",
    "        square = number ** 2\n",
    "        print(square)"
   ]
  }
 ],
 "metadata": {
  "kernelspec": {
   "display_name": "Python 3.12",
   "language": "python",
   "name": "python3.12"
  },
  "language_info": {
   "codemirror_mode": {
    "name": "ipython",
    "version": 3
   },
   "file_extension": ".py",
   "mimetype": "text/x-python",
   "name": "python",
   "nbconvert_exporter": "python",
   "pygments_lexer": "ipython3",
   "version": "3.12.0"
  }
 },
 "nbformat": 4,
 "nbformat_minor": 5
}
