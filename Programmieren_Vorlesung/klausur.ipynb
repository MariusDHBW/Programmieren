{
 "cells": [
  {
   "cell_type": "markdown",
   "id": "3115c423-8486-442c-b827-722f1d768e20",
   "metadata": {},
   "source": [
    "In Anlehnung an die Klausur von Emir"
   ]
  },
  {
   "cell_type": "markdown",
   "id": "65f6dde9-fd06-4f0a-a0de-d99fa5f0f091",
   "metadata": {},
   "source": [
    "# Python Data Model"
   ]
  },
  {
   "cell_type": "markdown",
   "id": "3faabf5a-1025-49d3-9e9b-2135d78e3751",
   "metadata": {
    "tags": []
   },
   "source": [
    "Könnte alles Mögliche sein. Eventuell kommt sowas dran:"
   ]
  },
  {
   "cell_type": "code",
   "execution_count": 274,
   "id": "74db24fe-53eb-4f89-85a8-9f2951ed50a5",
   "metadata": {
    "tags": []
   },
   "outputs": [
    {
     "data": {
      "text/plain": [
       "type"
      ]
     },
     "execution_count": 274,
     "metadata": {},
     "output_type": "execute_result"
    }
   ],
   "source": [
    "type(int)"
   ]
  },
  {
   "cell_type": "markdown",
   "id": "02b9278f-0927-427c-a702-3a3aec2049c1",
   "metadata": {},
   "source": [
    "# Computed Property"
   ]
  },
  {
   "cell_type": "markdown",
   "id": "0f63b064-2af6-47cd-8e0d-bc68e1406ca3",
   "metadata": {},
   "source": [
    "Die computed property (eine Funktion mit dem \"@property\" decorator, siehe unten) stellt zur Laufzeit des Programms eine Variable dar, welche beim Aufruf der Variable berechnet wird. <br>\n",
    "(nutzt man die Autovervollständigung von jupyter lab wird auch angezeigt, dass es sich bei `spieler_farbe` um eine \"instance\" handelt und keine \"function\")"
   ]
  },
  {
   "cell_type": "code",
   "execution_count": 66,
   "id": "2f9dc0bf-7892-4e90-a7bd-b12fa8f4fc87",
   "metadata": {
    "tags": []
   },
   "outputs": [],
   "source": [
    "class Game:\n",
    "    def __init__(self):\n",
    "        self.spieler = 1\n",
    "    \n",
    "    @property\n",
    "    def spieler_farbe(self):\n",
    "        if self.spieler == 1:\n",
    "            return \"Gelb\"\n",
    "        elif self.spieler == 2:\n",
    "            return \"Rot\"\n",
    "        ...\n",
    "    \n",
    "    def get_spieler_farbe(self):\n",
    "        print(\"Hier kann nach dem Punkt durch das drücken der Tabulator-Taste eine Auflistung der Variablen und Methoden vorgenommen werden\")"
   ]
  },
  {
   "cell_type": "code",
   "execution_count": 68,
   "id": "82c99f3f-15fc-4b13-9c9e-8c9968a42f5e",
   "metadata": {
    "tags": []
   },
   "outputs": [],
   "source": [
    "game = Game()"
   ]
  },
  {
   "cell_type": "code",
   "execution_count": 70,
   "id": "3a52bc14-dd72-43ac-a34a-003e929531e8",
   "metadata": {
    "tags": []
   },
   "outputs": [
    {
     "data": {
      "text/plain": [
       "'Gelb'"
      ]
     },
     "execution_count": 70,
     "metadata": {},
     "output_type": "execute_result"
    }
   ],
   "source": [
    "game.spieler_farbe"
   ]
  },
  {
   "cell_type": "code",
   "execution_count": 72,
   "id": "f08ef0b7-952c-494b-89cb-7721ae780feb",
   "metadata": {
    "tags": []
   },
   "outputs": [],
   "source": [
    "game.spieler = 2"
   ]
  },
  {
   "cell_type": "code",
   "execution_count": 74,
   "id": "d6816087-dfc8-448c-9c42-61e9ed3960e6",
   "metadata": {
    "tags": []
   },
   "outputs": [
    {
     "data": {
      "text/plain": [
       "'Rot'"
      ]
     },
     "execution_count": 74,
     "metadata": {},
     "output_type": "execute_result"
    }
   ],
   "source": [
    "game.spieler_farbe"
   ]
  },
  {
   "cell_type": "code",
   "execution_count": 76,
   "id": "3296a366-fccf-468c-8585-772044b836aa",
   "metadata": {
    "tags": []
   },
   "outputs": [
    {
     "name": "stdout",
     "output_type": "stream",
     "text": [
      "Hier kann nach dem Punkt durch das drücken der Tabulator-Taste eine Auflistung der Variablen und Methoden vorgenommen werden\n"
     ]
    }
   ],
   "source": [
    "game."
   ]
  },
  {
   "cell_type": "markdown",
   "id": "3590e62b-1c97-4ba2-8ecb-34838cc9e805",
   "metadata": {},
   "source": [
    "# Implementation Detail"
   ]
  },
  {
   "cell_type": "markdown",
   "id": "f0951536-ba99-4a0d-bc8b-8530696eddf1",
   "metadata": {
    "tags": []
   },
   "source": [
    "Könnte alles mögliche sein, von \"'Python' ist tatsächlich 'CPython' und wurde in C geschrieben\" bis zu richtig abgefuckter Scheiße. \\\\(-_-)/"
   ]
  },
  {
   "cell_type": "markdown",
   "id": "8769bca7-e42c-47b4-af50-6278c4ef4a17",
   "metadata": {},
   "source": [
    "# Polymorphic Funtion"
   ]
  },
  {
   "cell_type": "markdown",
   "id": "1b043c50-62ea-4fd5-b1e5-2d71c1677698",
   "metadata": {
    "tags": []
   },
   "source": [
    "Eine polymorphische Funktion funktioniert ein wenig so wie Duck-Typing. <br>\n",
    "\"Wenn es quackt und läuft wie eine Ente, wird es eine Ente sein.\" Übertragen in Python: <br>\n",
    "Wenn wir eine Funktion schreiben welche mit einer Collection arbeiten soll, können wir nachher als Argument alles verwerden, was sich auch wie eine Collection verhält."
   ]
  },
  {
   "cell_type": "code",
   "execution_count": 122,
   "id": "a1112fe9-b042-4604-99a3-692636cc673a",
   "metadata": {
    "tags": []
   },
   "outputs": [],
   "source": [
    "def sum(collection):\n",
    "    summe = 0\n",
    "    for number in collection:\n",
    "        summe += number\n",
    "    return summe"
   ]
  },
  {
   "cell_type": "code",
   "execution_count": 124,
   "id": "28809036-3d85-4a65-8a11-4f51b022df84",
   "metadata": {
    "tags": []
   },
   "outputs": [
    {
     "data": {
      "text/plain": [
       "list"
      ]
     },
     "execution_count": 124,
     "metadata": {},
     "output_type": "execute_result"
    }
   ],
   "source": [
    "x = [1, 2, 3]\n",
    "type(x)"
   ]
  },
  {
   "cell_type": "code",
   "execution_count": 126,
   "id": "3e4cb407-ac60-44f9-8b89-9c1078eced74",
   "metadata": {
    "tags": []
   },
   "outputs": [
    {
     "data": {
      "text/plain": [
       "tuple"
      ]
     },
     "execution_count": 126,
     "metadata": {},
     "output_type": "execute_result"
    }
   ],
   "source": [
    "y = (1, 2, 3)\n",
    "type(y)"
   ]
  },
  {
   "cell_type": "code",
   "execution_count": 128,
   "id": "44b17688-e2b3-4a58-b728-3566d79aa00f",
   "metadata": {
    "tags": []
   },
   "outputs": [
    {
     "data": {
      "text/plain": [
       "set"
      ]
     },
     "execution_count": 128,
     "metadata": {},
     "output_type": "execute_result"
    }
   ],
   "source": [
    "z = {1, 2, 3}\n",
    "type(z)"
   ]
  },
  {
   "cell_type": "code",
   "execution_count": 130,
   "id": "7901a7d9-466e-4843-9d33-a4bff5bea679",
   "metadata": {
    "tags": []
   },
   "outputs": [],
   "source": [
    "assert sum(x) == sum(y) == sum(z) == 6"
   ]
  },
  {
   "cell_type": "markdown",
   "id": "91f6f1e5-ec64-4c75-9906-026eed02c6ef",
   "metadata": {},
   "source": [
    "# 4 Eigenschaften einer Sequenz"
   ]
  },
  {
   "cell_type": "markdown",
   "id": "f54c66c4-2849-4c78-8678-32690b4b7ca7",
   "metadata": {},
   "source": [
    "Siehe Kapitel 07_sequences für nähere Informationen\n",
    "\n",
    "1. Container / \"muss andere Sachen enthalten\" / prüfbar: `x in collection`\n",
    "2. Sized / \"darf keine unendliche/undefinierte Menge an Elementen enthalten / prüfbar: `len(collection)`\n",
    "3. Iterable / \"muss loopbar sein\" / prüfbar: `iter(x)` (alternativ: `for x in collection:`\n",
    "die bisherigen 3 Eigenschaften weisen nur auf eine Collection hin. Um von einer Sequenz zu sprechen, muss eine vierte Bedingung erfüllt sein:\n",
    "4. Reversable / \"muss eine Reihenfolge haben\" / prüfbar: `reversed(sequence)`"
   ]
  },
  {
   "cell_type": "code",
   "execution_count": 134,
   "id": "e65405d8-6d75-46d2-9fe7-f6003347a9a4",
   "metadata": {
    "tags": []
   },
   "outputs": [
    {
     "data": {
      "text/plain": [
       "set"
      ]
     },
     "execution_count": 134,
     "metadata": {},
     "output_type": "execute_result"
    }
   ],
   "source": [
    "type(z)"
   ]
  },
  {
   "cell_type": "code",
   "execution_count": 140,
   "id": "927d6eb8-80c8-4c36-81c5-962a27146483",
   "metadata": {
    "tags": []
   },
   "outputs": [
    {
     "name": "stdout",
     "output_type": "stream",
     "text": [
      "No errors\n"
     ]
    }
   ],
   "source": [
    "1 in z\n",
    "len(z)\n",
    "iter(z)\n",
    "print(\"No errors\")"
   ]
  },
  {
   "cell_type": "code",
   "execution_count": 142,
   "id": "d9b82631-929d-49cf-a5db-7b37cc8328b3",
   "metadata": {
    "tags": []
   },
   "outputs": [
    {
     "ename": "TypeError",
     "evalue": "'set' object is not reversible",
     "output_type": "error",
     "traceback": [
      "\u001b[1;31m---------------------------------------------------------------------------\u001b[0m",
      "\u001b[1;31mTypeError\u001b[0m                                 Traceback (most recent call last)",
      "Cell \u001b[1;32mIn[142], line 1\u001b[0m\n\u001b[1;32m----> 1\u001b[0m \u001b[38;5;28mreversed\u001b[39m(z)\n",
      "\u001b[1;31mTypeError\u001b[0m: 'set' object is not reversible"
     ]
    }
   ],
   "source": [
    "reversed(z)"
   ]
  },
  {
   "cell_type": "markdown",
   "id": "a6b029a5-028c-4daf-be0d-0493f1b85c1d",
   "metadata": {},
   "source": [
    "`set`s sind Collections"
   ]
  },
  {
   "cell_type": "code",
   "execution_count": 154,
   "id": "a8d5eccb-96d6-4645-99ea-3e0dfb4d4974",
   "metadata": {
    "tags": []
   },
   "outputs": [
    {
     "data": {
      "text/plain": [
       "list"
      ]
     },
     "execution_count": 154,
     "metadata": {},
     "output_type": "execute_result"
    }
   ],
   "source": [
    "type(x)"
   ]
  },
  {
   "cell_type": "code",
   "execution_count": 156,
   "id": "a5744364-e8ce-4fb8-a229-5ed9d7bb23ee",
   "metadata": {
    "tags": []
   },
   "outputs": [
    {
     "name": "stdout",
     "output_type": "stream",
     "text": [
      "No errors\n"
     ]
    }
   ],
   "source": [
    "1 in x\n",
    "len(x)\n",
    "iter(x)\n",
    "print(\"No errors\")"
   ]
  },
  {
   "cell_type": "code",
   "execution_count": 158,
   "id": "b0b5fbb9-00ef-4215-bc78-1f9d92ff18cd",
   "metadata": {
    "tags": []
   },
   "outputs": [
    {
     "data": {
      "text/plain": [
       "<list_reverseiterator at 0x244fddedea0>"
      ]
     },
     "execution_count": 158,
     "metadata": {},
     "output_type": "execute_result"
    }
   ],
   "source": [
    "reversed(x)"
   ]
  },
  {
   "cell_type": "markdown",
   "id": "4175d127-1ab2-458d-9ad8-ef7a2a92a701",
   "metadata": {},
   "source": [
    "`list`s sind Sequenzen"
   ]
  },
  {
   "cell_type": "markdown",
   "id": "dbe887ff-966e-4882-bbb6-4a0d74b89da1",
   "metadata": {},
   "source": [
    "# Welche zwei Special Methods (Dunder Methods) müssen für die vierte Eigenschaft implementiert werden"
   ]
  },
  {
   "cell_type": "code",
   "execution_count": 174,
   "id": "d991c14f-124c-4b81-bf64-733b95bbbc9d",
   "metadata": {
    "tags": []
   },
   "outputs": [],
   "source": [
    "class Platzhalter:\n",
    "    def __init__(self):\n",
    "        self.inhalt = [1, 2, 3]\n",
    "    \n",
    "    def __len__(self):\n",
    "        return len(self.inhalt)\n",
    "    def __getitem__(self, index):\n",
    "        return self.inhalt[index]"
   ]
  },
  {
   "cell_type": "code",
   "execution_count": 176,
   "id": "114468df-8c8c-4ab9-8da6-e310d4b72208",
   "metadata": {
    "tags": []
   },
   "outputs": [
    {
     "data": {
      "text/plain": [
       "[1, 2, 3]"
      ]
     },
     "execution_count": 176,
     "metadata": {},
     "output_type": "execute_result"
    }
   ],
   "source": [
    "p = Platzhalter()\n",
    "p.inhalt"
   ]
  },
  {
   "cell_type": "markdown",
   "id": "df7f5e4c-05a7-4bfc-ac0b-47a3e01eda61",
   "metadata": {},
   "source": [
    "`len` und `getitem` (die eckigen Klammern) funktionieren jetzt"
   ]
  },
  {
   "cell_type": "code",
   "execution_count": 180,
   "id": "7261a42e-d936-40a1-afe2-c905c248682b",
   "metadata": {
    "tags": []
   },
   "outputs": [
    {
     "data": {
      "text/plain": [
       "3"
      ]
     },
     "execution_count": 180,
     "metadata": {},
     "output_type": "execute_result"
    }
   ],
   "source": [
    "len(p)"
   ]
  },
  {
   "cell_type": "code",
   "execution_count": 182,
   "id": "36a98f22-0bd0-4fde-9d01-f3d1d157af57",
   "metadata": {
    "tags": []
   },
   "outputs": [
    {
     "data": {
      "text/plain": [
       "1"
      ]
     },
     "execution_count": 182,
     "metadata": {},
     "output_type": "execute_result"
    }
   ],
   "source": [
    "p[0]"
   ]
  },
  {
   "cell_type": "markdown",
   "id": "a728bccc-6611-45d8-adcd-d4a78ec6e271",
   "metadata": {},
   "source": [
    "Dadurch funktionieren jetzt aber auch andere Special Methods"
   ]
  },
  {
   "cell_type": "code",
   "execution_count": 186,
   "id": "acdd9e2f-1974-4742-bf20-7dd35e83da43",
   "metadata": {
    "tags": []
   },
   "outputs": [
    {
     "data": {
      "text/plain": [
       "<iterator at 0x244fdd38d30>"
      ]
     },
     "execution_count": 186,
     "metadata": {},
     "output_type": "execute_result"
    }
   ],
   "source": [
    "iter(p)"
   ]
  },
  {
   "cell_type": "code",
   "execution_count": 188,
   "id": "77f87b98-7b57-48b3-9b86-c77859da73ac",
   "metadata": {
    "tags": []
   },
   "outputs": [
    {
     "name": "stdout",
     "output_type": "stream",
     "text": [
      "1\n",
      "2\n",
      "3\n"
     ]
    }
   ],
   "source": [
    "for num in p:\n",
    "    print(num)"
   ]
  },
  {
   "cell_type": "code",
   "execution_count": 192,
   "id": "07810100-1c96-44ae-ac16-9a37730aaa74",
   "metadata": {
    "tags": []
   },
   "outputs": [
    {
     "data": {
      "text/plain": [
       "[3, 2, 1]"
      ]
     },
     "execution_count": 192,
     "metadata": {},
     "output_type": "execute_result"
    }
   ],
   "source": [
    "list(reversed(p))"
   ]
  },
  {
   "cell_type": "markdown",
   "id": "4027c35e-b4c4-4cfd-8be5-34a6f6540fe6",
   "metadata": {},
   "source": [
    "Diese funktionieren, da durch die oben definierten \"Dunder Methods\", das neue Verhalten definiert werden kann.\n",
    "Wenn ich die Länge einer Sequenz kenne und weiß wie ich an jedes Element in dieser Sequence komme, dann kann ich drüber loopen"
   ]
  },
  {
   "cell_type": "markdown",
   "id": "aae91d61-3a26-49eb-a376-03c21995ceae",
   "metadata": {},
   "source": [
    "# A7 und A8 fehlend"
   ]
  },
  {
   "cell_type": "code",
   "execution_count": 196,
   "id": "3530663d-f7f5-479b-8508-dda747293f61",
   "metadata": {
    "tags": []
   },
   "outputs": [
    {
     "data": {
      "text/plain": [
       "Ellipsis"
      ]
     },
     "execution_count": 196,
     "metadata": {},
     "output_type": "execute_result"
    }
   ],
   "source": [
    "..."
   ]
  },
  {
   "cell_type": "markdown",
   "id": "66f601d8-b91f-4afa-8702-bea62d8137e9",
   "metadata": {},
   "source": [
    "# Nennen Sie 2 Stellen wo Code wiederverwendet wird"
   ]
  },
  {
   "cell_type": "code",
   "execution_count": 201,
   "id": "c7931b00-cd34-4959-9686-8700d490936e",
   "metadata": {
    "tags": []
   },
   "outputs": [
    {
     "data": {
      "text/plain": [
       "2"
      ]
     },
     "execution_count": 201,
     "metadata": {},
     "output_type": "execute_result"
    }
   ],
   "source": [
    "# das könnte irgendwie so aussehen\n",
    "p[0+1]"
   ]
  },
  {
   "cell_type": "markdown",
   "id": "25fc4821-8593-4661-a323-616a44d7957e",
   "metadata": {},
   "source": [
    "In diesem Fall wird von den zwei Zahlen(`int`) die __add__() aufgerufen und danach von unserem Platzhalter weiter oben die __getitem__() <br>\n",
    "Im nächsten Fall wird eine neue Vektoren Klasse zur Verdeutlichung erstellt"
   ]
  },
  {
   "cell_type": "markdown",
   "id": "d78e9c59-f99b-4219-b7f9-0c3239057982",
   "metadata": {},
   "source": [
    "# Aufgabe 10 (in Reihenfolge)"
   ]
  },
  {
   "cell_type": "code",
   "execution_count": 259,
   "id": "2a43d7e9-3b56-460f-a986-54a5353cfb1a",
   "metadata": {
    "tags": []
   },
   "outputs": [],
   "source": [
    "class Vector:\n",
    "    def __init__(self, numbers):\n",
    "        self.nums = numbers\n",
    "    \n",
    "    def __repr__(self):\n",
    "        return str(self.nums)\n",
    "    \n",
    "    def __add__(self, other):\n",
    "        if not isinstance(other, Vector):\n",
    "            raise TypeError(\"Vektoren müssen mit Vektoren addiert werden!\")\n",
    "        if len(self.nums) != len(other.nums):\n",
    "            raise TypeError(\"Vektoren können nur mit gleichlangen Vektoren addiert werden!\")\n",
    "            \n",
    "        return Vector([x+y for x, y in zip(self.nums, other.nums)])\n",
    "\n",
    "v1 = Vector([1, 2, 3])\n",
    "v2 = Vector([4, 5, 6])"
   ]
  },
  {
   "cell_type": "code",
   "execution_count": 263,
   "id": "2c9bc419-5f27-49c9-89ae-7f042f030f6d",
   "metadata": {
    "tags": []
   },
   "outputs": [],
   "source": [
    "# Aufgabe:"
   ]
  },
  {
   "cell_type": "code",
   "execution_count": 265,
   "id": "bd4d98a0-24bc-4e72-b528-9e34e91186c2",
   "metadata": {
    "tags": []
   },
   "outputs": [
    {
     "data": {
      "text/plain": [
       "[5, 7, 9]"
      ]
     },
     "execution_count": 265,
     "metadata": {},
     "output_type": "execute_result"
    }
   ],
   "source": [
    "v1 + v2"
   ]
  },
  {
   "cell_type": "markdown",
   "id": "a7164754-b065-4097-9cdf-d7b606b5af56",
   "metadata": {},
   "source": [
    "In diesem Fall wird wieder die `__add__()` als erstes aufgerufen, diesesmal aber von der Vektoren Klasse. Danach wird als zweites die `__repr__()` aufgerufen"
   ]
  },
  {
   "cell_type": "code",
   "execution_count": null,
   "id": "e9ce23d2-ad78-4bb1-9274-3a7549618780",
   "metadata": {},
   "outputs": [],
   "source": []
  }
 ],
 "metadata": {
  "kernelspec": {
   "display_name": "Python 3 (ipykernel)",
   "language": "python",
   "name": "python3"
  },
  "language_info": {
   "codemirror_mode": {
    "name": "ipython",
    "version": 3
   },
   "file_extension": ".py",
   "mimetype": "text/x-python",
   "name": "python",
   "nbconvert_exporter": "python",
   "pygments_lexer": "ipython3",
   "version": "3.11.5"
  }
 },
 "nbformat": 4,
 "nbformat_minor": 5
}
